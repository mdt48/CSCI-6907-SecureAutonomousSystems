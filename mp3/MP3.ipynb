{
 "cells": [
  {
   "cell_type": "code",
   "execution_count": null,
   "metadata": {},
   "outputs": [],
   "source": [
    "### DATA PREP\n",
    "\n",
    "\n",
    "\"\"\"\n",
    "0 -- Genuine\n",
    "1 -- Attack\n",
    "\"\"\"\n"
   ]
  },
  {
   "cell_type": "code",
   "execution_count": 6,
   "metadata": {},
   "outputs": [],
   "source": [
    "import pandas as pd\n",
    "import json\n",
    "from glob import glob\n",
    "from tqdm import tqdm\n",
    "import numpy as np"
   ]
  },
  {
   "cell_type": "code",
   "execution_count": 7,
   "metadata": {},
   "outputs": [],
   "source": [
    "def read_trace_file(files, type, tqdm_desc):\n",
    "    columns =['spdX', 'spdY', 'accX', 'accY', 'posX', 'posY', 'hedX', 'hedY', 'label', 'messageID']\n",
    "    rows = []\n",
    "    ret_df = pd.DataFrame()\n",
    "    for file in tqdm(files, desc=tqdm_desc):\n",
    "        with open(file) as f:\n",
    "            for line in f:\n",
    "                line = line.strip()\n",
    "                dec = json.JSONDecoder()\n",
    "                pos = 0\n",
    "                while not pos == len(str(line)):\n",
    "                    json_line, json_len = dec.raw_decode(str(line)[pos:])\n",
    "                    pos += json_len\n",
    "\n",
    "                    # json_line = json.loads(j)\n",
    "\n",
    "                    if json_line['type'] == type:\n",
    "                        label = 0 if 'A0' in file else 1\n",
    "                        new_row = (\n",
    "                            json_line['spd'][0],\n",
    "                            json_line['spd'][1],\n",
    "                            json_line['acl'][0],\n",
    "                            json_line['acl'][1],\n",
    "                            json_line['pos'][0],\n",
    "                            json_line['pos'][1],\n",
    "                            json_line['hed'][0],\n",
    "                            json_line['hed'][1],\n",
    "                            label, \n",
    "                            json_line['messageID'] if 'messageID' in json_line.keys() else -1\n",
    "                        )\n",
    "                        df = pd.DataFrame([list(new_row)], columns=columns)\n",
    "                        rows.append(df)\n",
    "    all_df = [ret_df]\n",
    "    all_df.extend(rows)\n",
    "    ret_df = pd.concat(all_df)\n",
    "    return ret_df\n",
    "                        # pd.concat(ret_df, df, ignore_index=True)"
   ]
  },
  {
   "cell_type": "code",
   "execution_count": 8,
   "metadata": {},
   "outputs": [
    {
     "name": "stderr",
     "output_type": "stream",
     "text": [
      "Aggregating Training Data: 100%|██████████| 6298/6298 [02:18<00:00, 45.42it/s]\n"
     ]
    }
   ],
   "source": [
    "train_path = './data/train/*.*'\n",
    "train_files = glob(train_path)\n",
    "train_df = read_trace_file(train_files, 2, 'Aggregating Training Data')"
   ]
  },
  {
   "cell_type": "code",
   "execution_count": 9,
   "metadata": {},
   "outputs": [
    {
     "name": "stderr",
     "output_type": "stream",
     "text": [
      "Aggregating Testing Data: 100%|██████████| 4369/4369 [07:25<00:00,  9.81it/s]\n"
     ]
    }
   ],
   "source": [
    "test_path = './data/test/*.*'\n",
    "test_files = glob(test_path)\n",
    "test_df = read_trace_file(test_files, 3, 'Aggregating Testing Data')"
   ]
  },
  {
   "cell_type": "code",
   "execution_count": 10,
   "metadata": {},
   "outputs": [],
   "source": [
    "aggregation_functions = {'spdX': 'first', 'spdY': 'first', 'accX': 'first', 'accY': 'first', 'posX': 'first', 'posY': 'first', 'hedX': 'first', 'hedY': 'first', 'label': 'first', 'messageID': 'first', 'messageID': 'first'}\n",
    "test_df = test_df.groupby(test_df['messageID']).aggregate(aggregation_functions)\n"
   ]
  },
  {
   "cell_type": "code",
   "execution_count": 11,
   "metadata": {},
   "outputs": [],
   "source": [
    "test_df.reset_index(drop=True, inplace=True)"
   ]
  },
  {
   "cell_type": "code",
   "execution_count": 13,
   "metadata": {},
   "outputs": [
    {
     "data": {
      "text/html": [
       "<div>\n",
       "<style scoped>\n",
       "    .dataframe tbody tr th:only-of-type {\n",
       "        vertical-align: middle;\n",
       "    }\n",
       "\n",
       "    .dataframe tbody tr th {\n",
       "        vertical-align: top;\n",
       "    }\n",
       "\n",
       "    .dataframe thead th {\n",
       "        text-align: right;\n",
       "    }\n",
       "</style>\n",
       "<table border=\"1\" class=\"dataframe\">\n",
       "  <thead>\n",
       "    <tr style=\"text-align: right;\">\n",
       "      <th></th>\n",
       "      <th>spdX</th>\n",
       "      <th>spdY</th>\n",
       "      <th>accX</th>\n",
       "      <th>accY</th>\n",
       "      <th>posX</th>\n",
       "      <th>posY</th>\n",
       "      <th>hedX</th>\n",
       "      <th>hedY</th>\n",
       "      <th>label</th>\n",
       "      <th>messageID</th>\n",
       "    </tr>\n",
       "  </thead>\n",
       "  <tbody>\n",
       "    <tr>\n",
       "      <th>0</th>\n",
       "      <td>0.000000</td>\n",
       "      <td>0.000000</td>\n",
       "      <td>0.000000</td>\n",
       "      <td>0.000000</td>\n",
       "      <td>0.000000</td>\n",
       "      <td>0.000000</td>\n",
       "      <td>0.000000</td>\n",
       "      <td>0.000000</td>\n",
       "      <td>1</td>\n",
       "      <td>139624065</td>\n",
       "    </tr>\n",
       "    <tr>\n",
       "      <th>1</th>\n",
       "      <td>-0.161815</td>\n",
       "      <td>1.565888</td>\n",
       "      <td>-0.273165</td>\n",
       "      <td>2.643934</td>\n",
       "      <td>267.231275</td>\n",
       "      <td>31.157523</td>\n",
       "      <td>-0.102765</td>\n",
       "      <td>0.994706</td>\n",
       "      <td>1</td>\n",
       "      <td>139624871</td>\n",
       "    </tr>\n",
       "    <tr>\n",
       "      <th>2</th>\n",
       "      <td>-0.294866</td>\n",
       "      <td>-0.052932</td>\n",
       "      <td>-2.948658</td>\n",
       "      <td>-0.529318</td>\n",
       "      <td>1215.582709</td>\n",
       "      <td>975.080935</td>\n",
       "      <td>-0.984267</td>\n",
       "      <td>-0.176689</td>\n",
       "      <td>1</td>\n",
       "      <td>139635306</td>\n",
       "    </tr>\n",
       "    <tr>\n",
       "      <th>3</th>\n",
       "      <td>0.000000</td>\n",
       "      <td>0.000000</td>\n",
       "      <td>0.000000</td>\n",
       "      <td>0.000000</td>\n",
       "      <td>0.000000</td>\n",
       "      <td>0.000000</td>\n",
       "      <td>0.000000</td>\n",
       "      <td>0.000000</td>\n",
       "      <td>1</td>\n",
       "      <td>139636223</td>\n",
       "    </tr>\n",
       "    <tr>\n",
       "      <th>4</th>\n",
       "      <td>-5.695461</td>\n",
       "      <td>-12.187200</td>\n",
       "      <td>-0.732630</td>\n",
       "      <td>-1.567887</td>\n",
       "      <td>1370.555791</td>\n",
       "      <td>1102.278070</td>\n",
       "      <td>-0.458538</td>\n",
       "      <td>-0.888675</td>\n",
       "      <td>1</td>\n",
       "      <td>139636569</td>\n",
       "    </tr>\n",
       "  </tbody>\n",
       "</table>\n",
       "</div>"
      ],
      "text/plain": [
       "       spdX       spdY      accX      accY         posX         posY  \\\n",
       "0  0.000000   0.000000  0.000000  0.000000     0.000000     0.000000   \n",
       "1 -0.161815   1.565888 -0.273165  2.643934   267.231275    31.157523   \n",
       "2 -0.294866  -0.052932 -2.948658 -0.529318  1215.582709   975.080935   \n",
       "3  0.000000   0.000000  0.000000  0.000000     0.000000     0.000000   \n",
       "4 -5.695461 -12.187200 -0.732630 -1.567887  1370.555791  1102.278070   \n",
       "\n",
       "       hedX      hedY  label  messageID  \n",
       "0  0.000000  0.000000      1  139624065  \n",
       "1 -0.102765  0.994706      1  139624871  \n",
       "2 -0.984267 -0.176689      1  139635306  \n",
       "3  0.000000  0.000000      1  139636223  \n",
       "4 -0.458538 -0.888675      1  139636569  "
      ]
     },
     "execution_count": 13,
     "metadata": {},
     "output_type": "execute_result"
    }
   ],
   "source": [
    "test_df = test_df.sort_values(by='messageID')\n",
    "# test_df.pop('index')\n",
    "test_df.head()"
   ]
  },
  {
   "cell_type": "code",
   "execution_count": null,
   "metadata": {},
   "outputs": [],
   "source": []
  },
  {
   "cell_type": "markdown",
   "metadata": {},
   "source": [
    "# normal models"
   ]
  },
  {
   "cell_type": "code",
   "execution_count": 26,
   "metadata": {},
   "outputs": [],
   "source": [
    "### MODEL TIME\n"
   ]
  },
  {
   "cell_type": "code",
   "execution_count": 228,
   "metadata": {},
   "outputs": [],
   "source": [
    "from sklearn.datasets import load_iris\n",
    "from sklearn.linear_model import LogisticRegression\n",
    "from sklearn.neighbors import KNeighborsClassifier\n",
    "from sklearn.preprocessing import normalize\n",
    "from sklearn.naive_bayes import GaussianNB, MultinomialNB\n",
    "from sklearn.tree import DecisionTreeClassifier\n",
    "from sklearn.ensemble import RandomForestClassifier\n",
    "from sklearn.ensemble import AdaBoostClassifier  # Boosting Algorithm\n",
    "\n"
   ]
  },
  {
   "cell_type": "code",
   "execution_count": 14,
   "metadata": {},
   "outputs": [],
   "source": [
    "X = train_df.loc[:, :'hedY'].to_numpy()\n",
    "Y = train_df.loc[:, 'label'].to_numpy()"
   ]
  },
  {
   "cell_type": "code",
   "execution_count": 190,
   "metadata": {},
   "outputs": [
    {
     "data": {
      "text/html": [
       "<div>\n",
       "<style scoped>\n",
       "    .dataframe tbody tr th:only-of-type {\n",
       "        vertical-align: middle;\n",
       "    }\n",
       "\n",
       "    .dataframe tbody tr th {\n",
       "        vertical-align: top;\n",
       "    }\n",
       "\n",
       "    .dataframe thead th {\n",
       "        text-align: right;\n",
       "    }\n",
       "</style>\n",
       "<table border=\"1\" class=\"dataframe\">\n",
       "  <thead>\n",
       "    <tr style=\"text-align: right;\">\n",
       "      <th></th>\n",
       "      <th>spdX</th>\n",
       "      <th>spdY</th>\n",
       "      <th>accX</th>\n",
       "      <th>accY</th>\n",
       "      <th>posX</th>\n",
       "      <th>posY</th>\n",
       "      <th>hedX</th>\n",
       "      <th>hedY</th>\n",
       "      <th>label</th>\n",
       "      <th>messageID</th>\n",
       "    </tr>\n",
       "  </thead>\n",
       "  <tbody>\n",
       "    <tr>\n",
       "      <th>0</th>\n",
       "      <td>0.000000</td>\n",
       "      <td>0.000000</td>\n",
       "      <td>0.000000</td>\n",
       "      <td>0.000000</td>\n",
       "      <td>0.000000</td>\n",
       "      <td>0.000000</td>\n",
       "      <td>0.000000</td>\n",
       "      <td>0.000000</td>\n",
       "      <td>1</td>\n",
       "      <td>139624065</td>\n",
       "    </tr>\n",
       "    <tr>\n",
       "      <th>1</th>\n",
       "      <td>-0.161815</td>\n",
       "      <td>1.565888</td>\n",
       "      <td>-0.273165</td>\n",
       "      <td>2.643934</td>\n",
       "      <td>267.231275</td>\n",
       "      <td>31.157523</td>\n",
       "      <td>-0.102765</td>\n",
       "      <td>0.994706</td>\n",
       "      <td>1</td>\n",
       "      <td>139624871</td>\n",
       "    </tr>\n",
       "    <tr>\n",
       "      <th>2</th>\n",
       "      <td>-0.294866</td>\n",
       "      <td>-0.052932</td>\n",
       "      <td>-2.948658</td>\n",
       "      <td>-0.529318</td>\n",
       "      <td>1215.582709</td>\n",
       "      <td>975.080935</td>\n",
       "      <td>-0.984267</td>\n",
       "      <td>-0.176689</td>\n",
       "      <td>1</td>\n",
       "      <td>139635306</td>\n",
       "    </tr>\n",
       "    <tr>\n",
       "      <th>3</th>\n",
       "      <td>0.000000</td>\n",
       "      <td>0.000000</td>\n",
       "      <td>0.000000</td>\n",
       "      <td>0.000000</td>\n",
       "      <td>0.000000</td>\n",
       "      <td>0.000000</td>\n",
       "      <td>0.000000</td>\n",
       "      <td>0.000000</td>\n",
       "      <td>1</td>\n",
       "      <td>139636223</td>\n",
       "    </tr>\n",
       "    <tr>\n",
       "      <th>4</th>\n",
       "      <td>-5.695461</td>\n",
       "      <td>-12.187200</td>\n",
       "      <td>-0.732630</td>\n",
       "      <td>-1.567887</td>\n",
       "      <td>1370.555791</td>\n",
       "      <td>1102.278070</td>\n",
       "      <td>-0.458538</td>\n",
       "      <td>-0.888675</td>\n",
       "      <td>1</td>\n",
       "      <td>139636569</td>\n",
       "    </tr>\n",
       "  </tbody>\n",
       "</table>\n",
       "</div>"
      ],
      "text/plain": [
       "       spdX       spdY      accX      accY         posX         posY  \\\n",
       "0  0.000000   0.000000  0.000000  0.000000     0.000000     0.000000   \n",
       "1 -0.161815   1.565888 -0.273165  2.643934   267.231275    31.157523   \n",
       "2 -0.294866  -0.052932 -2.948658 -0.529318  1215.582709   975.080935   \n",
       "3  0.000000   0.000000  0.000000  0.000000     0.000000     0.000000   \n",
       "4 -5.695461 -12.187200 -0.732630 -1.567887  1370.555791  1102.278070   \n",
       "\n",
       "       hedX      hedY  label  messageID  \n",
       "0  0.000000  0.000000      1  139624065  \n",
       "1 -0.102765  0.994706      1  139624871  \n",
       "2 -0.984267 -0.176689      1  139635306  \n",
       "3  0.000000  0.000000      1  139636223  \n",
       "4 -0.458538 -0.888675      1  139636569  "
      ]
     },
     "execution_count": 190,
     "metadata": {},
     "output_type": "execute_result"
    }
   ],
   "source": [
    "test_df.head()"
   ]
  },
  {
   "cell_type": "code",
   "execution_count": 241,
   "metadata": {},
   "outputs": [],
   "source": [
    "# clf = LogisticRegression(random_state=1, penalty='l2', max_iter=1000, verbose=1).fit(X, Y)\n",
    "# clf = KNeighborsClassifier().fit(X, Y)\n",
    "clf = DecisionTreeClassifier(random_state=0)\n",
    "num_trees = 100\n",
    "model = AdaBoostClassifier(base_estimator=clf, n_estimators=num_trees, learning_rate = 0.01).fit(X, Y)\n",
    "\n",
    "# clf = RandomForestClassifier(n_jobs=-1, criterion='entropy',n_estimators=1 ,random_state=0, verbose=2).fit(X, Y)\n",
    "# clf.score(X, Y)"
   ]
  },
  {
   "cell_type": "code",
   "execution_count": 15,
   "metadata": {},
   "outputs": [],
   "source": [
    "X_test = test_df.loc[:, :'hedY'].to_numpy()\n",
    "Y_test = test_df.loc[:, 'label'].to_numpy()\n",
    "message_ids = test_df.loc[:, 'messageID'].to_numpy()"
   ]
  },
  {
   "cell_type": "code",
   "execution_count": 243,
   "metadata": {},
   "outputs": [
    {
     "data": {
      "text/plain": [
       "0.3045225347777681"
      ]
     },
     "execution_count": 243,
     "metadata": {},
     "output_type": "execute_result"
    }
   ],
   "source": [
    "preds = model.predict(X_test)\n",
    "np.sum(preds) / len(preds)\n",
    "results = pd.DataFrame(columns=['data_id', 'prediction'])\n",
    "results['data_id'] = list(message_ids)\n",
    "results['prediction'] = list(preds)\n",
    "results.to_csv('results10.csv', index=False)"
   ]
  },
  {
   "cell_type": "markdown",
   "metadata": {},
   "source": [
    "# Clustering"
   ]
  },
  {
   "cell_type": "code",
   "execution_count": null,
   "metadata": {},
   "outputs": [],
   "source": [
    "#### CLUSTERING\n"
   ]
  },
  {
   "cell_type": "code",
   "execution_count": 16,
   "metadata": {},
   "outputs": [],
   "source": [
    "import numpy as np\n",
    "import matplotlib.pyplot as plt\n",
    "from sklearn.cluster import KMeans\n",
    "from sklearn.cluster import AffinityPropagation\n"
   ]
  },
  {
   "cell_type": "code",
   "execution_count": 246,
   "metadata": {},
   "outputs": [
    {
     "ename": "KeyboardInterrupt",
     "evalue": "",
     "output_type": "error",
     "traceback": [
      "\u001b[0;31m---------------------------------------------------------------------------\u001b[0m",
      "\u001b[0;31mKeyboardInterrupt\u001b[0m                         Traceback (most recent call last)",
      "File \u001b[0;32m<__array_function__ internals>:2\u001b[0m, in \u001b[0;36mwhere\u001b[0;34m(*args, **kwargs)\u001b[0m\n",
      "\u001b[0;31mKeyboardInterrupt\u001b[0m: "
     ]
    },
    {
     "name": "stderr",
     "output_type": "stream",
     "text": [
      "Exception ignored in: 'sklearn.cluster._k_means_common._relocate_empty_clusters_dense'\n",
      "Traceback (most recent call last):\n",
      "  File \"<__array_function__ internals>\", line 2, in where\n",
      "KeyboardInterrupt: \n"
     ]
    },
    {
     "data": {
      "image/png": "[encoded data removed]",
      "text/plain": [
       "<Figure size 640x480 with 1 Axes>"
      ]
     },
     "metadata": {},
     "output_type": "display_data"
    }
   ],
   "source": [
    "# ELBOW\n",
    "sum_sqrd = []\n",
    "for i in tqdm(range(1, 11)):\n",
    "    kmeans = KMeans(n_clusters = i, \\\n",
    "                    init = 'k-means++', \\\n",
    "                    random_state = 42)\n",
    "    kmeans.fit(X)\n",
    "    sum_sqrd.append(kmeans.inertia_) # inertia_: Sum of squared distances of samples to their closest cluster center.\n",
    "plt.plot(range(1, 11), sum_sqrd)\n",
    "plt.title('K-Means - the Elbow method')\n",
    "plt.xlabel('Number of clusters')\n",
    "plt.ylabel('Sum of squared distances')\n",
    "plt.show()"
   ]
  },
  {
   "cell_type": "code",
   "execution_count": 1,
   "metadata": {},
   "outputs": [
    {
     "ename": "NameError",
     "evalue": "name 'KMeans' is not defined",
     "output_type": "error",
     "traceback": [
      "\u001b[0;31m---------------------------------------------------------------------------\u001b[0m",
      "\u001b[0;31mNameError\u001b[0m                                 Traceback (most recent call last)",
      "\u001b[1;32m/Users/mdt/Projects/CSCI-6907-SecureAutonomousSystems/mp3/MP3.ipynb Cell 22\u001b[0m in \u001b[0;36m<cell line: 1>\u001b[0;34m()\u001b[0m\n\u001b[0;32m----> <a href='vscode-notebook-cell:/Users/mdt/Projects/CSCI-6907-SecureAutonomousSystems/mp3/MP3.ipynb#X56sZmlsZQ%3D%3D?line=0'>1</a>\u001b[0m kmeans \u001b[39m=\u001b[39m KMeans(n_clusters \u001b[39m=\u001b[39m \u001b[39m8\u001b[39m, \\\n\u001b[1;32m      <a href='vscode-notebook-cell:/Users/mdt/Projects/CSCI-6907-SecureAutonomousSystems/mp3/MP3.ipynb#X56sZmlsZQ%3D%3D?line=1'>2</a>\u001b[0m                     init \u001b[39m=\u001b[39m \u001b[39m'\u001b[39m\u001b[39mk-means++\u001b[39m\u001b[39m'\u001b[39m, \\\n\u001b[1;32m      <a href='vscode-notebook-cell:/Users/mdt/Projects/CSCI-6907-SecureAutonomousSystems/mp3/MP3.ipynb#X56sZmlsZQ%3D%3D?line=2'>3</a>\u001b[0m                     random_state \u001b[39m=\u001b[39m \u001b[39m42\u001b[39m, verbose\u001b[39m=\u001b[39m\u001b[39m1\u001b[39m)\n\u001b[1;32m      <a href='vscode-notebook-cell:/Users/mdt/Projects/CSCI-6907-SecureAutonomousSystems/mp3/MP3.ipynb#X56sZmlsZQ%3D%3D?line=3'>4</a>\u001b[0m kmeans\u001b[39m.\u001b[39mfit(X)\n",
      "\u001b[0;31mNameError\u001b[0m: name 'KMeans' is not defined"
     ]
    }
   ],
   "source": [
    "kmeans = KMeans(n_clusters = 8, \\\n",
    "                    init = 'k-means++', \\\n",
    "                    random_state = 42, verbose=1)\n",
    "kmeans.fit(X)\n",
    "# clf = AffinityPropagation(verbose=1).fit(X, Y)"
   ]
  },
  {
   "cell_type": "code",
   "execution_count": null,
   "metadata": {},
   "outputs": [
    {
     "ename": "NameError",
     "evalue": "name 'clf' is not defined",
     "output_type": "error",
     "traceback": [
      "\u001b[0;31m---------------------------------------------------------------------------\u001b[0m",
      "\u001b[0;31mNameError\u001b[0m                                 Traceback (most recent call last)",
      "\u001b[1;32m/Users/mdt/Projects/CSCI-6907-SecureAutonomousSystems/mp3/MP3.ipynb Cell 22\u001b[0m in \u001b[0;36m<cell line: 1>\u001b[0;34m()\u001b[0m\n\u001b[0;32m----> <a href='vscode-notebook-cell:/Users/mdt/Projects/CSCI-6907-SecureAutonomousSystems/mp3/MP3.ipynb#X60sZmlsZQ%3D%3D?line=0'>1</a>\u001b[0m preds \u001b[39m=\u001b[39m clf\u001b[39m.\u001b[39mpredict(X_test)\n\u001b[1;32m      <a href='vscode-notebook-cell:/Users/mdt/Projects/CSCI-6907-SecureAutonomousSystems/mp3/MP3.ipynb#X60sZmlsZQ%3D%3D?line=1'>2</a>\u001b[0m preds[preds \u001b[39m!=\u001b[39m \u001b[39m0\u001b[39m] \u001b[39m=\u001b[39m \u001b[39m1\u001b[39m\n\u001b[1;32m      <a href='vscode-notebook-cell:/Users/mdt/Projects/CSCI-6907-SecureAutonomousSystems/mp3/MP3.ipynb#X60sZmlsZQ%3D%3D?line=2'>3</a>\u001b[0m \u001b[39mprint\u001b[39m(np\u001b[39m.\u001b[39msum(preds) \u001b[39m/\u001b[39m \u001b[39mlen\u001b[39m(preds))\n",
      "\u001b[0;31mNameError\u001b[0m: name 'clf' is not defined"
     ]
    }
   ],
   "source": [
    "preds = clf.predict(X_test)\n",
    "preds[preds != 0] = 1\n",
    "print(np.sum(preds) / len(preds))\n",
    "results = pd.DataFrame(columns=['data_id', 'prediction'])\n",
    "results['data_id'] = list(message_ids)\n",
    "results['prediction'] = list(preds)\n",
    "results.to_csv('results13.csv', index=False)"
   ]
  },
  {
   "cell_type": "code",
   "execution_count": null,
   "metadata": {},
   "outputs": [],
   "source": []
  }
 ],
 "metadata": {
  "kernelspec": {
   "display_name": "Python 3.10.4 ('sas')",
   "language": "python",
   "name": "python3"
  },
  "language_info": {
   "codemirror_mode": {
    "name": "ipython",
    "version": 3
   },
   "file_extension": ".py",
   "mimetype": "text/x-python",
   "name": "python",
   "nbconvert_exporter": "python",
   "pygments_lexer": "ipython3",
   "version": "3.10.4"
  },
  "orig_nbformat": 4,
  "vscode": {
   "interpreter": {
    "hash": "370c2e155f39334490fda2eb08ef73c7de1e75352eb5503a3e7a85a1186a4235"
   }
  }
 },
 "nbformat": 4,
 "nbformat_minor": 2
}
