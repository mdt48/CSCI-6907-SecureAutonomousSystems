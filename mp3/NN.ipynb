{
 "cells": [
  {
   "cell_type": "code",
   "execution_count": 1,
   "metadata": {},
   "outputs": [],
   "source": [
    "import pandas as pd\n",
    "import json\n",
    "from glob import glob\n",
    "from tqdm import tqdm\n",
    "import numpy as np"
   ]
  },
  {
   "cell_type": "code",
   "execution_count": 2,
   "metadata": {},
   "outputs": [],
   "source": [
    "def read_trace_file(files, type, tqdm_desc):\n",
    "    columns =['spdX', 'spdY', 'accX', 'accY', 'posX', 'posY', 'hedX', 'hedY', 'spdXNoise', 'spdYNoise', 'accXNoise', 'accYNoise', 'posXNoise', 'posYNoise', 'hedXNoise', 'hedYNoise', 'label', 'messageID']\n",
    "    rows = []\n",
    "    ret_df = pd.DataFrame()\n",
    "    for file in tqdm(files, desc=tqdm_desc):\n",
    "        with open(file) as f:\n",
    "            for line in f:\n",
    "                line = line.strip()\n",
    "                dec = json.JSONDecoder()\n",
    "                pos = 0\n",
    "                while not pos == len(str(line)):\n",
    "                    json_line, json_len = dec.raw_decode(str(line)[pos:])\n",
    "                    pos += json_len\n",
    "\n",
    "                    # json_line = json.loads(j)\n",
    "\n",
    "                    if json_line['type'] == type:\n",
    "                        label = 0 if 'A0' in file else 1\n",
    "                        new_row = (\n",
    "                            json_line['spd'][0],\n",
    "                            json_line['spd'][1],\n",
    "                            json_line['acl'][0],\n",
    "                            json_line['acl'][1],\n",
    "                            json_line['pos'][0],\n",
    "                            json_line['pos'][1],\n",
    "                            json_line['hed'][0],\n",
    "                            json_line['hed'][1],\n",
    "\n",
    "                            json_line['spd_noise'][0],\n",
    "                            json_line['spd_noise'][1],\n",
    "                            json_line['acl_noise'][0],\n",
    "                            json_line['acl_noise'][1],\n",
    "                            json_line['pos_noise'][0],\n",
    "                            json_line['pos_noise'][1],\n",
    "                            json_line['hed_noise'][0],\n",
    "                            json_line['hed_noise'][1],\n",
    "\n",
    "\n",
    "                            label, \n",
    "                            json_line['messageID'] if 'messageID' in json_line.keys() else -1\n",
    "                        )\n",
    "                        df = pd.DataFrame([list(new_row)], columns=columns)\n",
    "                        rows.append(df)\n",
    "    all_df = [ret_df]\n",
    "    all_df.extend(rows)\n",
    "    ret_df = pd.concat(all_df)\n",
    "    return ret_df\n",
    "                        # pd.concat(ret_df, df, ignore_index=True)"
   ]
  },
  {
   "cell_type": "code",
   "execution_count": 3,
   "metadata": {},
   "outputs": [
    {
     "name": "stderr",
     "output_type": "stream",
     "text": [
      "Aggregating Training Data: 100%|███████████████████████████████████████████████████████████████████████| 6298/6298 [02:29<00:00, 42.20it/s]\n",
      "Aggregating Testing Data: 100%|████████████████████████████████████████████████████████████████████████| 4369/4369 [08:32<00:00,  8.52it/s]\n"
     ]
    }
   ],
   "source": [
    "train_path = './data/train/*.*'\n",
    "train_files = glob(train_path)\n",
    "train_df = read_trace_file(train_files, 2, 'Aggregating Training Data')\n",
    "\n",
    "test_path = './data/test/*.*'\n",
    "test_files = glob(test_path)\n",
    "test_df = read_trace_file(test_files, 3, 'Aggregating Testing Data')"
   ]
  },
  {
   "cell_type": "code",
   "execution_count": 13,
   "metadata": {},
   "outputs": [
    {
     "data": {
      "text/html": [
       "<div>\n",
       "<style scoped>\n",
       "    .dataframe tbody tr th:only-of-type {\n",
       "        vertical-align: middle;\n",
       "    }\n",
       "\n",
       "    .dataframe tbody tr th {\n",
       "        vertical-align: top;\n",
       "    }\n",
       "\n",
       "    .dataframe thead th {\n",
       "        text-align: right;\n",
       "    }\n",
       "</style>\n",
       "<table border=\"1\" class=\"dataframe\">\n",
       "  <thead>\n",
       "    <tr style=\"text-align: right;\">\n",
       "      <th></th>\n",
       "      <th>spdX</th>\n",
       "      <th>spdY</th>\n",
       "      <th>accX</th>\n",
       "      <th>accY</th>\n",
       "      <th>posX</th>\n",
       "      <th>posY</th>\n",
       "      <th>hedX</th>\n",
       "      <th>hedY</th>\n",
       "      <th>spdXNoise</th>\n",
       "      <th>spdYNoise</th>\n",
       "      <th>accXNoise</th>\n",
       "      <th>accYNoise</th>\n",
       "      <th>posXNoise</th>\n",
       "      <th>posYNoise</th>\n",
       "      <th>hedXNoise</th>\n",
       "      <th>hedYNoise</th>\n",
       "      <th>label</th>\n",
       "      <th>messageID</th>\n",
       "    </tr>\n",
       "  </thead>\n",
       "  <tbody>\n",
       "    <tr>\n",
       "      <th>0</th>\n",
       "      <td>0.000000</td>\n",
       "      <td>0.000000</td>\n",
       "      <td>0.000000</td>\n",
       "      <td>0.000000</td>\n",
       "      <td>0.000000</td>\n",
       "      <td>0.000000</td>\n",
       "      <td>0.000000</td>\n",
       "      <td>0.000000</td>\n",
       "      <td>0.000000</td>\n",
       "      <td>0.000000</td>\n",
       "      <td>0.000000</td>\n",
       "      <td>0.000000</td>\n",
       "      <td>0.000000</td>\n",
       "      <td>0.000000</td>\n",
       "      <td>0.000000</td>\n",
       "      <td>0.000000</td>\n",
       "      <td>1</td>\n",
       "      <td>139624065</td>\n",
       "    </tr>\n",
       "    <tr>\n",
       "      <th>1</th>\n",
       "      <td>-0.161815</td>\n",
       "      <td>1.565888</td>\n",
       "      <td>-0.273165</td>\n",
       "      <td>2.643934</td>\n",
       "      <td>267.231275</td>\n",
       "      <td>31.157523</td>\n",
       "      <td>-0.102765</td>\n",
       "      <td>0.994706</td>\n",
       "      <td>-0.000000</td>\n",
       "      <td>-0.000000</td>\n",
       "      <td>0.002353</td>\n",
       "      <td>0.002353</td>\n",
       "      <td>3.658914</td>\n",
       "      <td>3.764030</td>\n",
       "      <td>0.166695</td>\n",
       "      <td>0.140246</td>\n",
       "      <td>1</td>\n",
       "      <td>139624871</td>\n",
       "    </tr>\n",
       "    <tr>\n",
       "      <th>2</th>\n",
       "      <td>-0.294866</td>\n",
       "      <td>-0.052932</td>\n",
       "      <td>-2.948658</td>\n",
       "      <td>-0.529318</td>\n",
       "      <td>1215.582709</td>\n",
       "      <td>975.080935</td>\n",
       "      <td>-0.984267</td>\n",
       "      <td>-0.176689</td>\n",
       "      <td>-0.000000</td>\n",
       "      <td>-0.000000</td>\n",
       "      <td>0.000564</td>\n",
       "      <td>0.000564</td>\n",
       "      <td>3.902924</td>\n",
       "      <td>3.904656</td>\n",
       "      <td>14.671405</td>\n",
       "      <td>14.320713</td>\n",
       "      <td>1</td>\n",
       "      <td>139635306</td>\n",
       "    </tr>\n",
       "    <tr>\n",
       "      <th>3</th>\n",
       "      <td>0.000000</td>\n",
       "      <td>0.000000</td>\n",
       "      <td>0.000000</td>\n",
       "      <td>0.000000</td>\n",
       "      <td>0.000000</td>\n",
       "      <td>0.000000</td>\n",
       "      <td>0.000000</td>\n",
       "      <td>0.000000</td>\n",
       "      <td>0.000000</td>\n",
       "      <td>0.000000</td>\n",
       "      <td>0.000000</td>\n",
       "      <td>0.000000</td>\n",
       "      <td>0.000000</td>\n",
       "      <td>0.000000</td>\n",
       "      <td>0.000000</td>\n",
       "      <td>0.000000</td>\n",
       "      <td>1</td>\n",
       "      <td>139636223</td>\n",
       "    </tr>\n",
       "    <tr>\n",
       "      <th>4</th>\n",
       "      <td>-5.695461</td>\n",
       "      <td>-12.187200</td>\n",
       "      <td>-0.732630</td>\n",
       "      <td>-1.567887</td>\n",
       "      <td>1370.555791</td>\n",
       "      <td>1102.278070</td>\n",
       "      <td>-0.458538</td>\n",
       "      <td>-0.888675</td>\n",
       "      <td>-0.011792</td>\n",
       "      <td>-0.027047</td>\n",
       "      <td>0.002017</td>\n",
       "      <td>0.004496</td>\n",
       "      <td>4.202668</td>\n",
       "      <td>4.186059</td>\n",
       "      <td>30.966393</td>\n",
       "      <td>59.268406</td>\n",
       "      <td>1</td>\n",
       "      <td>139636569</td>\n",
       "    </tr>\n",
       "  </tbody>\n",
       "</table>\n",
       "</div>"
      ],
      "text/plain": [
       "       spdX       spdY      accX      accY         posX         posY  \\\n",
       "0  0.000000   0.000000  0.000000  0.000000     0.000000     0.000000   \n",
       "1 -0.161815   1.565888 -0.273165  2.643934   267.231275    31.157523   \n",
       "2 -0.294866  -0.052932 -2.948658 -0.529318  1215.582709   975.080935   \n",
       "3  0.000000   0.000000  0.000000  0.000000     0.000000     0.000000   \n",
       "4 -5.695461 -12.187200 -0.732630 -1.567887  1370.555791  1102.278070   \n",
       "\n",
       "       hedX      hedY  spdXNoise  spdYNoise  accXNoise  accYNoise  posXNoise  \\\n",
       "0  0.000000  0.000000   0.000000   0.000000   0.000000   0.000000   0.000000   \n",
       "1 -0.102765  0.994706  -0.000000  -0.000000   0.002353   0.002353   3.658914   \n",
       "2 -0.984267 -0.176689  -0.000000  -0.000000   0.000564   0.000564   3.902924   \n",
       "3  0.000000  0.000000   0.000000   0.000000   0.000000   0.000000   0.000000   \n",
       "4 -0.458538 -0.888675  -0.011792  -0.027047   0.002017   0.004496   4.202668   \n",
       "\n",
       "   posYNoise  hedXNoise  hedYNoise  label  messageID  \n",
       "0   0.000000   0.000000   0.000000      1  139624065  \n",
       "1   3.764030   0.166695   0.140246      1  139624871  \n",
       "2   3.904656  14.671405  14.320713      1  139635306  \n",
       "3   0.000000   0.000000   0.000000      1  139636223  \n",
       "4   4.186059  30.966393  59.268406      1  139636569  "
      ]
     },
     "execution_count": 13,
     "metadata": {},
     "output_type": "execute_result"
    }
   ],
   "source": [
    "aggregation_functions = {'spdX': 'first', 'spdY': 'first', 'accX': 'first', 'accY': 'first', 'posX': 'first', 'posY': 'first', 'hedX': 'first', 'hedY': 'first', 'spdXNoise': 'first', 'spdYNoise': 'first', 'accXNoise': 'first', 'accYNoise': 'first', 'posXNoise': 'first', 'posYNoise': 'first', 'hedXNoise': 'first', 'hedYNoise': 'first', 'label': 'first', 'messageID': 'first', 'messageID': 'first'}\n",
    "test_df = test_df.groupby(test_df['messageID']).aggregate(aggregation_functions)\n",
    "test_df.reset_index(drop=True, inplace=True)\n",
    "\n",
    "test_df = test_df.sort_values(by='messageID')\n",
    "test_df.head()"
   ]
  },
  {
   "cell_type": "code",
   "execution_count": 17,
   "metadata": {},
   "outputs": [],
   "source": [
    "train_df.to_pickle('train.parquet')\n",
    "test_df.to_pickle('./test_df.parquet')"
   ]
  },
  {
   "cell_type": "code",
   "execution_count": 18,
   "metadata": {},
   "outputs": [],
   "source": [
    "X = train_df.loc[:, :'hedYNoise'].to_numpy()\n",
    "Y = train_df.loc[:, 'label'].to_numpy()\n",
    "\n",
    "X_test = test_df.loc[:, :'hedYNoise'].to_numpy()\n",
    "Y_test = test_df.loc[:, 'label'].to_numpy()\n",
    "message_ids = test_df.loc[:, 'messageID'].to_numpy()"
   ]
  },
  {
   "cell_type": "markdown",
   "metadata": {},
   "source": [
    "# NN"
   ]
  },
  {
   "cell_type": "code",
   "execution_count": 19,
   "metadata": {},
   "outputs": [],
   "source": [
    "import torch\n",
    "import numpy as np\n",
    "import matplotlib.pyplot as plt\n",
    "\n",
    "from sklearn.preprocessing import StandardScaler\n",
    "from torch.utils.data import Dataset, DataLoader\n",
    "\n",
    "from torch import nn\n",
    "from torch.nn import functional as F\n"
   ]
  },
  {
   "cell_type": "code",
   "execution_count": 20,
   "metadata": {},
   "outputs": [],
   "source": [
    "class Net(nn.Module):\n",
    "  def __init__(self,input_shape):\n",
    "    super(Net,self).__init__()\n",
    "    self.fc1 = nn.Linear(input_shape,32)\n",
    "    self.fc2 = nn.Linear(32,64)\n",
    "    self.fc3 = nn.Linear(64,1)\n",
    "  def forward(self,x):\n",
    "    x = torch.relu(self.fc1(x))\n",
    "    x = torch.relu(self.fc2(x))\n",
    "    x = torch.sigmoid(self.fc3(x))\n",
    "    return x"
   ]
  },
  {
   "cell_type": "code",
   "execution_count": 21,
   "metadata": {},
   "outputs": [],
   "source": [
    "class dataset(Dataset):\n",
    "    def __init__(self,x,y):\n",
    "        self.x = torch.tensor(x,dtype=torch.float32)\n",
    "        self.y = torch.tensor(y,dtype=torch.float32)\n",
    "        self.length = self.x.shape[0]\n",
    " \n",
    "    def __getitem__(self,idx):\n",
    "        return self.x[idx],self.y[idx]\n",
    "    def __len__(self):\n",
    "        return self.length"
   ]
  },
  {
   "cell_type": "code",
   "execution_count": 22,
   "metadata": {},
   "outputs": [],
   "source": [
    "def train(epochs, model, loss_fn, trainloader, optimizer, x, y):\n",
    "    #forward loop\n",
    "    losses = []\n",
    "    accur = []\n",
    "    \n",
    "    print('Starting Training')\n",
    "    \n",
    "    for i in range(epochs):\n",
    "        for j,(x_train,y_train) in enumerate(trainloader):\n",
    "            \n",
    "            #calculate output\n",
    "            output = model(x_train)\n",
    "        \n",
    "            #calculate loss\n",
    "            loss = loss_fn(output,y_train.reshape(-1,1))\n",
    "        \n",
    "            #accuracy\n",
    "            predicted = model(torch.tensor(x,dtype=torch.float32))\n",
    "            acc = (predicted.reshape(-1).detach().numpy().round() == y).mean()\n",
    "            #backprop\n",
    "            optimizer.zero_grad()\n",
    "            loss.backward()\n",
    "            optimizer.step()\n",
    "\n",
    "        if i%50 == 0:\n",
    "            losses.append(loss)\n",
    "            accur.append(acc)\n",
    "            print(\"epoch {}\\tloss : {}\\t accuracy : {}\".format(i,loss,acc))\n",
    "    return losses, accur"
   ]
  },
  {
   "cell_type": "code",
   "execution_count": 23,
   "metadata": {},
   "outputs": [],
   "source": [
    "def test(model, testloader, x_test):\n",
    "    #forward loop\n",
    "    preds = []\n",
    "    for j,(x_test, y_test) in enumerate(testloader):\n",
    "        preds = model(torch.tensor(x_test,dtype=torch.float32))\n",
    "        preds.reshape(-1).detach().numpy().round()\n",
    "\n",
    "    return preds"
   ]
  },
  {
   "cell_type": "code",
   "execution_count": 24,
   "metadata": {},
   "outputs": [],
   "source": [
    "# Scaler Shit\n",
    "\n",
    "sc = StandardScaler()\n",
    "X = sc.fit_transform(X)"
   ]
  },
  {
   "cell_type": "code",
   "execution_count": 25,
   "metadata": {},
   "outputs": [],
   "source": [
    "train_set = dataset(X, Y)\n",
    "test_set = dataset(X_test, Y_test)\n",
    "\n",
    "trainloader = DataLoader(train_set,batch_size=64,shuffle=False)\n",
    "testloader = DataLoader(train_set,batch_size=test_set.length,shuffle=False)\n"
   ]
  },
  {
   "cell_type": "code",
   "execution_count": null,
   "metadata": {},
   "outputs": [
    {
     "name": "stdout",
     "output_type": "stream",
     "text": [
      "Starting Training\n"
     ]
    }
   ],
   "source": [
    "#hyper parameters\n",
    "learning_rate = 0.01\n",
    "epochs = 700\n",
    "# Model , Optimizer, Loss\n",
    "model = Net(input_shape=X.shape[1])\n",
    "optimizer = torch.optim.SGD(model.parameters(),lr=learning_rate)\n",
    "loss_fn = nn.BCELoss()\n",
    "\n",
    "losses, accur = train(epochs, model, loss_fn, trainloader, optimizer, X, Y)"
   ]
  },
  {
   "cell_type": "code",
   "execution_count": null,
   "metadata": {},
   "outputs": [],
   "source": [
    "#plotting the loss\n",
    "plt.subplot(1,2,1)\n",
    "plt.plot(losses)\n",
    "plt.title('Loss vs Epochs')\n",
    "plt.xlabel('Epochs')\n",
    "plt.ylabel('loss')\n",
    "\n",
    "#printing the accuracy\n",
    "plt.subplot(1,2,2)\n",
    "plt.plot(accur)\n",
    "plt.title('Accuracy vs Epochs')\n",
    "plt.xlabel('Accuracy')\n",
    "plt.ylabel('loss')"
   ]
  },
  {
   "cell_type": "code",
   "execution_count": null,
   "metadata": {},
   "outputs": [],
   "source": [
    "preds = test(model, testloader, X_test)\n",
    "np.sum(preds) / len(preds)\n",
    "results = pd.DataFrame(columns=['data_id', 'prediction'])\n",
    "results['data_id'] = list(message_ids)\n",
    "results['prediction'] = list(preds)\n",
    "results.to_csv('results13.csv', index=False)"
   ]
  }
 ],
 "metadata": {
  "kernelspec": {
   "display_name": "Python 3 (ipykernel)",
   "language": "python",
   "name": "python3"
  },
  "language_info": {
   "codemirror_mode": {
    "name": "ipython",
    "version": 3
   },
   "file_extension": ".py",
   "mimetype": "text/x-python",
   "name": "python",
   "nbconvert_exporter": "python",
   "pygments_lexer": "ipython3",
   "version": "3.10.6"
  },
  "vscode": {
   "interpreter": {
    "hash": "a6e7b6909d79b1d985a328ec253d73427af039940977619e6a3a5268017eb1ad"
   }
  }
 },
 "nbformat": 4,
 "nbformat_minor": 4
}
