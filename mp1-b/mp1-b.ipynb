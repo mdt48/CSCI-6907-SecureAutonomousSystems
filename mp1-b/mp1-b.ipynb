{
 "cells": [
  {
   "cell_type": "code",
   "execution_count": 1,
   "metadata": {},
   "outputs": [],
   "source": [
    "import glob\n",
    "import os\n",
    "import json\n",
    "import pandas as pd\n",
    "from tqdm import tqdm\n",
    "import matplotlib.pyplot as plt\n",
    "\n",
    "from sklearn.metrics import ConfusionMatrixDisplay"
   ]
  },
  {
   "cell_type": "code",
   "execution_count": 2,
   "metadata": {},
   "outputs": [],
   "source": [
    "veremi_files = glob.glob('C:\\\\Users\\\\thomp\\\\projects\\\\school\\\\fall2022\\\\secure-autonomous-systems\\\\CSCI-6907-SecureAutonomousSystems\\\\mp1-b\\\\data\\\\VeReMi_0_3600_2022-10-5_9_16_28\\\\*.*')"
   ]
  },
  {
   "cell_type": "code",
   "execution_count": 3,
   "metadata": {},
   "outputs": [],
   "source": [
    "# ground_truth_vids = {'authentic': [], 'attackers': []}\n",
    "ground_truth_vids = {}\n",
    "for file in veremi_files:\n",
    "    file = os.path.basename(file)\n",
    "\n",
    "    if 'GroundTruth' in file: continue\n",
    "\n",
    "    split_fn = file.split('-')\n",
    "\n",
    "    vid = split_fn[1]\n",
    "    car_type = split_fn[3]\n",
    "\n",
    "    ground_truth_vids[vid] = 'Genuine' if car_type == 'A0' else 'LocalAttacker'"
   ]
  },
  {
   "cell_type": "code",
   "execution_count": 21,
   "metadata": {},
   "outputs": [
    {
     "data": {
      "text/plain": [
       "127"
      ]
     },
     "execution_count": 21,
     "metadata": {},
     "output_type": "execute_result"
    }
   ],
   "source": [
    "list(ground_truth_vids.values()).count('Genuine')"
   ]
  },
  {
   "cell_type": "code",
   "execution_count": 5,
   "metadata": {},
   "outputs": [],
   "source": [
    "mbd_records = glob.glob('C:\\\\Users\\\\thomp\\\\projects\\\\school\\\\fall2022\\\\secure-autonomous-systems\\\\CSCI-6907-SecureAutonomousSystems\\\\mp1-b\\\\data\\\\MDBsmsList_V1_2022-10-5_9_16_28\\\\*.*')"
   ]
  },
  {
   "cell_type": "code",
   "execution_count": 6,
   "metadata": {},
   "outputs": [],
   "source": [
    "mdbs = {} # MDBSMs by pseudonym\n",
    "\n",
    "for file in mbd_records:\n",
    "    f = open(file)\n",
    "    file = os.path.basename(file)\n",
    "\n",
    "    pseudonym = file.split('_')[-1].split('.')[0]\n",
    "    mdbs[pseudonym] = json.load(f)"
   ]
  },
  {
   "cell_type": "code",
   "execution_count": 7,
   "metadata": {},
   "outputs": [],
   "source": [
    "mbd_reports = glob.glob('C:\\\\Users\\\\thomp\\\\projects\\\\school\\\\fall2022\\\\secure-autonomous-systems\\\\CSCI-6907-SecureAutonomousSystems\\\\mp1-b\\\\data\\\\MDReports_V1_2022-10-5_9_16_28\\\\*.*')"
   ]
  },
  {
   "cell_type": "code",
   "execution_count": 8,
   "metadata": {},
   "outputs": [],
   "source": [
    "# Local Attack Types ... 0:Genuine, 1:ConstPos, 2:ConstPosOffset, 3:RandomPos, 4:RandomPosOffset, 5:ConstSpeed\n",
    "# Local Attack Types ... 6:ConstSpeedOffset, 7:RandomSpeed, 8:RandomSpeedOffset, 9:EventualStop, 10:Disruptive,\n",
    "# Local Attack Types ... 11:DataReplay, 12:StaleMessages, 13:DoS, 14:DoSRandom, 15:DoSDisruptive, 16:GridSybil,\n",
    "# Local Attack Types ... 17:DataReplaySybil, 18:DoSRandomSybil, 19:DoSDisruptiveSybil\n",
    "\n",
    "attack_types = {\n",
    "    'A0': 'Genuine', \n",
    "    'A1': 'ConstPos',\n",
    "    'A2': 'ConstPosOffset',\n",
    "    'A3': 'RandomPos',\n",
    "    'A4': 'RandomPosOffset',\n",
    "    'A5': 'ConstSpeed',\n",
    "    'A6': 'ConstSpeedOffset',\n",
    "    'A7': 'RandomSpeed',\n",
    "    'A8': 'RandomSpeedOffset',\n",
    "    'A9': 'EventualStop',\n",
    "    'A10': 'Disruptive',\n",
    "    'A11': 'DataReplay',\n",
    "    'A12': 'StaleMessages',\n",
    "    'A13': 'DoS',\n",
    "    'A14': 'DoSRandom',\n",
    "    'A15': 'DoSDisruptive',\n",
    "    'A16': 'GridSybil',\n",
    "    'A17': 'DataReplaySybil', \n",
    "    'A18': 'DoSRandomSybil',\n",
    "    'A19': 'DoSDisruptiveSybil',\n",
    "}\n",
    "\n",
    "# attack_types = {\n",
    "#     'A0': 'Genuine', \n",
    "#     'A1': 'LocalAttacker',\n",
    "#     'A2': 'LocalAttacker',\n",
    "#     'A3': 'LocalAttacker',\n",
    "#     'A4': 'LocalAttacker',\n",
    "#     'A5': 'LocalAttacker',\n",
    "#     'A6': 'LocalAttacker',\n",
    "#     'A7': 'LocalAttacker',\n",
    "#     'A8': 'LocalAttacker',\n",
    "#     'A9': 'LocalAttacker',\n",
    "#     'A10': 'LocalAttacker',\n",
    "#     'A11': 'LocalAttacker',\n",
    "#     'A12': 'LocalAttacker',\n",
    "#     'A13': 'LocalAttacker',\n",
    "#     'A14': 'LocalAttacker',\n",
    "#     'A15': 'LocalAttacker',\n",
    "#     'A16': 'LocalAttacker',\n",
    "#     'A17': 'LocalAttacker', \n",
    "#     'A18': 'LocalAttacker',\n",
    "#     'A19': 'LocalAttacker',\n",
    "# }"
   ]
  },
  {
   "cell_type": "code",
   "execution_count": 24,
   "metadata": {},
   "outputs": [
    {
     "name": "stderr",
     "output_type": "stream",
     "text": [
      "100%|██████████| 8863/8863 [00:01<00:00, 6315.16it/s]\n"
     ]
    },
    {
     "name": "stdout",
     "output_type": "stream",
     "text": [
      "\n",
      "\tTP: 23.831936631844794\n",
      "\tFP: 0.10519856228631541\n",
      "\tFN: 76.1680633681552\n",
      "\t\n"
     ]
    },
    {
     "data": {
      "text/plain": [
       "<sklearn.metrics._plot.confusion_matrix.ConfusionMatrixDisplay at 0x2a92bf9e9b0>"
      ]
     },
     "execution_count": 24,
     "metadata": {},
     "output_type": "execute_result"
    },
    {
     "data": {
      "image/png": "[encoded data removed]",
      "text/plain": [
       "<Figure size 640x480 with 2 Axes>"
      ]
     },
     "metadata": {},
     "output_type": "display_data"
    }
   ],
   "source": [
    "y_true, y_pred = [], []\n",
    "for report in tqdm(list(mbd_reports)):\n",
    "    report = json.load(open(report))\n",
    "    report_sender_real_id = report['Report']['Metadata']['senderRealId']\n",
    "    for bsm in report['Report']['BSMs']:\n",
    "        reported_type = report['Report']['Metadata']['mbType']\n",
    "        y_pred.append(str(reported_type))\n",
    "\n",
    "        # ground_truth_label = bsm['MbType']\n",
    "        ground_truth_label = ground_truth_vids[str(bsm['RealId'])]\n",
    "        y_true.append(ground_truth_label)\n",
    "\n",
    "\n",
    "cm = confusion_matrix(y_true, y_pred)\n",
    "total = np.sum(cm)\n",
    "\n",
    "tp = cm[0, 0] / (cm[0, 0] + cm[0 ,1])\n",
    "fp = cm[1, 0] / (cm[1, 0] + cm[1, 1])\n",
    "fn = 1-tp\n",
    "\n",
    "print(\"\\n\\tTP: {}\\n\\tFP: {}\\n\\tFN: {}\\n\\t\".format( tp*100, fp*100, fn*100))\n",
    "\n",
    "ConfusionMatrixDisplay.from_predictions(y_true, y_pred)"
   ]
  },
  {
   "cell_type": "code",
   "execution_count": 23,
   "metadata": {},
   "outputs": [
    {
     "data": {
      "text/plain": [
       "31525"
      ]
     },
     "execution_count": 23,
     "metadata": {},
     "output_type": "execute_result"
    }
   ],
   "source": [
    "len(y_true)"
   ]
  },
  {
   "cell_type": "code",
   "execution_count": 14,
   "metadata": {},
   "outputs": [
    {
     "name": "stdout",
     "output_type": "stream",
     "text": [
      "               precision    recall  f1-score   support\n",
      "\n",
      "      Genuine       0.99      0.24      0.38      8711\n",
      "LocalAttacker       0.77      1.00      0.87     22814\n",
      "\n",
      "     accuracy                           0.79     31525\n",
      "    macro avg       0.88      0.62      0.63     31525\n",
      " weighted avg       0.83      0.79      0.74     31525\n",
      "\n"
     ]
    }
   ],
   "source": [
    "import sklearn\n",
    "print(sklearn.metrics.classification_report(y_true, y_pred, zero_division=0))"
   ]
  },
  {
   "cell_type": "code",
   "execution_count": 20,
   "metadata": {},
   "outputs": [
    {
     "name": "stderr",
     "output_type": "stream",
     "text": [
      "100%|██████████| 8863/8863 [00:01<00:00, 6461.27it/s]\n"
     ]
    },
    {
     "name": "stdout",
     "output_type": "stream",
     "text": [
      "Attack A5 - ConstSpeedConstSpeedConstSpeedConstSpeedConstSpeedConstSpeedConstSpeedConstSpeedConstSpeedConstSpeedConstSpeedConstSpeedConstSpeedConstSpeedConstSpeedConstSpeedConstSpeedConstSpeedConstSpeedConstSpeedConstSpeedConstSpeedConstSpeedConstSpeedConstSpeedConstSpeedConstSpeedConstSpeedConstSpeedConstSpeedConstSpeedConstSpeedConstSpeedConstSpeedConstSpeedConstSpeedConstSpeedConstSpeedConstSpeedConstSpeedConstSpeedConstSpeedConstSpeedConstSpeedConstSpeedConstSpeedConstSpeedConstSpeedConstSpeedConstSpeedConstSpeedConstSpeedConstSpeedConstSpeedConstSpeedConstSpeedConstSpeedConstSpeedConstSpeedConstSpeedConstSpeedConstSpeedConstSpeedConstSpeedConstSpeedConstSpeedConstSpeedConstSpeedConstSpeedConstSpeedConstSpeedConstSpeedConstSpeedConstSpeedConstSpeedConstSpeedConstSpeedConstSpeedConstSpeedConstSpeedConstSpeedConstSpeedConstSpeedConstSpeedConstSpeedConstSpeedConstSpeedConstSpeedConstSpeedConstSpeedConstSpeedConstSpeedConstSpeedConstSpeedConstSpeedConstSpeedConstSpeedConstSpeedConstSpeedConstSpeed: \n",
      "\tTP: 100.0\n",
      "\tFP: 0.0032646665143155626\n",
      "\tFN: 0.0\n",
      "\t\n"
     ]
    },
    {
     "name": "stderr",
     "output_type": "stream",
     "text": [
      "100%|██████████| 8863/8863 [00:01<00:00, 6390.27it/s]\n"
     ]
    },
    {
     "name": "stdout",
     "output_type": "stream",
     "text": [
      "Attack A6 - ConstSpeedOffsetConstSpeedOffsetConstSpeedOffsetConstSpeedOffsetConstSpeedOffsetConstSpeedOffsetConstSpeedOffsetConstSpeedOffsetConstSpeedOffsetConstSpeedOffsetConstSpeedOffsetConstSpeedOffsetConstSpeedOffsetConstSpeedOffsetConstSpeedOffsetConstSpeedOffsetConstSpeedOffsetConstSpeedOffsetConstSpeedOffsetConstSpeedOffsetConstSpeedOffsetConstSpeedOffsetConstSpeedOffsetConstSpeedOffsetConstSpeedOffsetConstSpeedOffsetConstSpeedOffsetConstSpeedOffsetConstSpeedOffsetConstSpeedOffsetConstSpeedOffsetConstSpeedOffsetConstSpeedOffsetConstSpeedOffsetConstSpeedOffsetConstSpeedOffsetConstSpeedOffsetConstSpeedOffsetConstSpeedOffsetConstSpeedOffsetConstSpeedOffsetConstSpeedOffsetConstSpeedOffsetConstSpeedOffsetConstSpeedOffsetConstSpeedOffsetConstSpeedOffsetConstSpeedOffsetConstSpeedOffsetConstSpeedOffsetConstSpeedOffsetConstSpeedOffsetConstSpeedOffsetConstSpeedOffsetConstSpeedOffsetConstSpeedOffsetConstSpeedOffsetConstSpeedOffsetConstSpeedOffsetConstSpeedOffsetConstSpeedOffsetConstSpeedOffsetConstSpeedOffsetConstSpeedOffsetConstSpeedOffsetConstSpeedOffsetConstSpeedOffsetConstSpeedOffsetConstSpeedOffsetConstSpeedOffsetConstSpeedOffsetConstSpeedOffsetConstSpeedOffsetConstSpeedOffsetConstSpeedOffsetConstSpeedOffsetConstSpeedOffsetConstSpeedOffsetConstSpeedOffsetConstSpeedOffsetConstSpeedOffsetConstSpeedOffsetConstSpeedOffsetConstSpeedOffsetConstSpeedOffsetConstSpeedOffsetConstSpeedOffsetConstSpeedOffsetConstSpeedOffsetConstSpeedOffsetConstSpeedOffsetConstSpeedOffsetConstSpeedOffsetConstSpeedOffsetConstSpeedOffsetConstSpeedOffsetConstSpeedOffsetConstSpeedOffsetConstSpeedOffsetConstSpeedOffset: \n",
      "\tTP: 100.0\n",
      "\tFP: 0.003297826732183491\n",
      "\tFN: 0.0\n",
      "\t\n"
     ]
    },
    {
     "name": "stderr",
     "output_type": "stream",
     "text": [
      "100%|██████████| 8863/8863 [00:01<00:00, 6426.71it/s]\n"
     ]
    },
    {
     "name": "stdout",
     "output_type": "stream",
     "text": [
      "Attack A7 - RandomSpeedRandomSpeedRandomSpeedRandomSpeedRandomSpeedRandomSpeedRandomSpeedRandomSpeedRandomSpeedRandomSpeedRandomSpeedRandomSpeedRandomSpeedRandomSpeedRandomSpeedRandomSpeedRandomSpeedRandomSpeedRandomSpeedRandomSpeedRandomSpeedRandomSpeedRandomSpeedRandomSpeedRandomSpeedRandomSpeedRandomSpeedRandomSpeedRandomSpeedRandomSpeedRandomSpeedRandomSpeedRandomSpeedRandomSpeedRandomSpeedRandomSpeedRandomSpeedRandomSpeedRandomSpeedRandomSpeedRandomSpeedRandomSpeedRandomSpeedRandomSpeedRandomSpeedRandomSpeedRandomSpeedRandomSpeedRandomSpeedRandomSpeedRandomSpeedRandomSpeedRandomSpeedRandomSpeedRandomSpeedRandomSpeedRandomSpeedRandomSpeedRandomSpeedRandomSpeedRandomSpeedRandomSpeedRandomSpeedRandomSpeedRandomSpeedRandomSpeedRandomSpeedRandomSpeedRandomSpeedRandomSpeedRandomSpeedRandomSpeedRandomSpeedRandomSpeedRandomSpeedRandomSpeedRandomSpeedRandomSpeedRandomSpeedRandomSpeedRandomSpeedRandomSpeedRandomSpeedRandomSpeedRandomSpeedRandomSpeedRandomSpeedRandomSpeedRandomSpeedRandomSpeedRandomSpeedRandomSpeedRandomSpeedRandomSpeedRandomSpeedRandomSpeedRandomSpeedRandomSpeedRandomSpeedRandomSpeed: \n",
      "\tTP: 100.0\n",
      "\tFP: 0.0\n",
      "\tFN: 0.0\n",
      "\t\n"
     ]
    },
    {
     "name": "stderr",
     "output_type": "stream",
     "text": [
      "100%|██████████| 8863/8863 [00:01<00:00, 6421.80it/s]\n"
     ]
    },
    {
     "name": "stdout",
     "output_type": "stream",
     "text": [
      "Attack A8 - RandomSpeedOffsetRandomSpeedOffsetRandomSpeedOffsetRandomSpeedOffsetRandomSpeedOffsetRandomSpeedOffsetRandomSpeedOffsetRandomSpeedOffsetRandomSpeedOffsetRandomSpeedOffsetRandomSpeedOffsetRandomSpeedOffsetRandomSpeedOffsetRandomSpeedOffsetRandomSpeedOffsetRandomSpeedOffsetRandomSpeedOffsetRandomSpeedOffsetRandomSpeedOffsetRandomSpeedOffsetRandomSpeedOffsetRandomSpeedOffsetRandomSpeedOffsetRandomSpeedOffsetRandomSpeedOffsetRandomSpeedOffsetRandomSpeedOffsetRandomSpeedOffsetRandomSpeedOffsetRandomSpeedOffsetRandomSpeedOffsetRandomSpeedOffsetRandomSpeedOffsetRandomSpeedOffsetRandomSpeedOffsetRandomSpeedOffsetRandomSpeedOffsetRandomSpeedOffsetRandomSpeedOffsetRandomSpeedOffsetRandomSpeedOffsetRandomSpeedOffsetRandomSpeedOffsetRandomSpeedOffsetRandomSpeedOffsetRandomSpeedOffsetRandomSpeedOffsetRandomSpeedOffsetRandomSpeedOffsetRandomSpeedOffsetRandomSpeedOffsetRandomSpeedOffsetRandomSpeedOffsetRandomSpeedOffsetRandomSpeedOffsetRandomSpeedOffsetRandomSpeedOffsetRandomSpeedOffsetRandomSpeedOffsetRandomSpeedOffsetRandomSpeedOffsetRandomSpeedOffsetRandomSpeedOffsetRandomSpeedOffsetRandomSpeedOffsetRandomSpeedOffsetRandomSpeedOffsetRandomSpeedOffsetRandomSpeedOffsetRandomSpeedOffsetRandomSpeedOffsetRandomSpeedOffsetRandomSpeedOffsetRandomSpeedOffsetRandomSpeedOffsetRandomSpeedOffsetRandomSpeedOffsetRandomSpeedOffsetRandomSpeedOffsetRandomSpeedOffsetRandomSpeedOffsetRandomSpeedOffsetRandomSpeedOffsetRandomSpeedOffsetRandomSpeedOffsetRandomSpeedOffsetRandomSpeedOffsetRandomSpeedOffsetRandomSpeedOffsetRandomSpeedOffsetRandomSpeedOffsetRandomSpeedOffsetRandomSpeedOffsetRandomSpeedOffsetRandomSpeedOffsetRandomSpeedOffsetRandomSpeedOffsetRandomSpeedOffsetRandomSpeedOffsetRandomSpeedOffset: \n",
      "\tTP: 100.0\n",
      "\tFP: 0.0\n",
      "\tFN: 0.0\n",
      "\t\n"
     ]
    },
    {
     "name": "stderr",
     "output_type": "stream",
     "text": [
      "100%|██████████| 8863/8863 [00:01<00:00, 6494.46it/s]\n"
     ]
    },
    {
     "name": "stdout",
     "output_type": "stream",
     "text": [
      "Attack A9 - EventualStopEventualStopEventualStopEventualStopEventualStopEventualStopEventualStopEventualStopEventualStopEventualStopEventualStopEventualStopEventualStopEventualStopEventualStopEventualStopEventualStopEventualStopEventualStopEventualStopEventualStopEventualStopEventualStopEventualStopEventualStopEventualStopEventualStopEventualStopEventualStopEventualStopEventualStopEventualStopEventualStopEventualStopEventualStopEventualStopEventualStopEventualStopEventualStopEventualStopEventualStopEventualStopEventualStopEventualStopEventualStopEventualStopEventualStopEventualStopEventualStopEventualStopEventualStopEventualStopEventualStopEventualStopEventualStopEventualStopEventualStopEventualStopEventualStopEventualStopEventualStopEventualStopEventualStopEventualStopEventualStopEventualStopEventualStopEventualStopEventualStopEventualStopEventualStopEventualStopEventualStopEventualStopEventualStopEventualStopEventualStopEventualStopEventualStopEventualStopEventualStopEventualStopEventualStopEventualStopEventualStopEventualStopEventualStopEventualStopEventualStopEventualStopEventualStopEventualStopEventualStopEventualStopEventualStopEventualStopEventualStopEventualStopEventualStopEventualStop: \n",
      "\tTP: 100.0\n",
      "\tFP: 0.08626749313055147\n",
      "\tFN: 0.0\n",
      "\t\n"
     ]
    },
    {
     "name": "stderr",
     "output_type": "stream",
     "text": [
      "100%|██████████| 8863/8863 [00:01<00:00, 6458.71it/s]\n"
     ]
    },
    {
     "name": "stdout",
     "output_type": "stream",
     "text": [
      "Attack A10 - DisruptiveDisruptiveDisruptiveDisruptiveDisruptiveDisruptiveDisruptiveDisruptiveDisruptiveDisruptiveDisruptiveDisruptiveDisruptiveDisruptiveDisruptiveDisruptiveDisruptiveDisruptiveDisruptiveDisruptiveDisruptiveDisruptiveDisruptiveDisruptiveDisruptiveDisruptiveDisruptiveDisruptiveDisruptiveDisruptiveDisruptiveDisruptiveDisruptiveDisruptiveDisruptiveDisruptiveDisruptiveDisruptiveDisruptiveDisruptiveDisruptiveDisruptiveDisruptiveDisruptiveDisruptiveDisruptiveDisruptiveDisruptiveDisruptiveDisruptiveDisruptiveDisruptiveDisruptiveDisruptiveDisruptiveDisruptiveDisruptiveDisruptiveDisruptiveDisruptiveDisruptiveDisruptiveDisruptiveDisruptiveDisruptiveDisruptiveDisruptiveDisruptiveDisruptiveDisruptiveDisruptiveDisruptiveDisruptiveDisruptiveDisruptiveDisruptiveDisruptiveDisruptiveDisruptiveDisruptiveDisruptiveDisruptiveDisruptiveDisruptiveDisruptiveDisruptiveDisruptiveDisruptiveDisruptiveDisruptiveDisruptiveDisruptiveDisruptiveDisruptiveDisruptiveDisruptiveDisruptiveDisruptiveDisruptiveDisruptive: \n",
      "\tTP: 100.0\n",
      "\tFP: 0.2100568769389866\n",
      "\tFN: 0.0\n",
      "\t\n"
     ]
    },
    {
     "name": "stderr",
     "output_type": "stream",
     "text": [
      "100%|██████████| 8863/8863 [00:01<00:00, 6458.71it/s]\n"
     ]
    },
    {
     "name": "stdout",
     "output_type": "stream",
     "text": [
      "Attack A11 - DataReplayDataReplayDataReplayDataReplayDataReplayDataReplayDataReplayDataReplayDataReplayDataReplayDataReplayDataReplayDataReplayDataReplayDataReplayDataReplayDataReplayDataReplayDataReplayDataReplayDataReplayDataReplayDataReplayDataReplayDataReplayDataReplayDataReplayDataReplayDataReplayDataReplayDataReplayDataReplayDataReplayDataReplayDataReplayDataReplayDataReplayDataReplayDataReplayDataReplayDataReplayDataReplayDataReplayDataReplayDataReplayDataReplayDataReplayDataReplayDataReplayDataReplayDataReplayDataReplayDataReplayDataReplayDataReplayDataReplayDataReplayDataReplayDataReplayDataReplayDataReplayDataReplayDataReplayDataReplayDataReplayDataReplayDataReplayDataReplayDataReplayDataReplayDataReplayDataReplayDataReplayDataReplayDataReplayDataReplayDataReplayDataReplayDataReplayDataReplayDataReplayDataReplayDataReplayDataReplayDataReplayDataReplayDataReplayDataReplayDataReplayDataReplayDataReplayDataReplayDataReplayDataReplayDataReplayDataReplayDataReplayDataReplayDataReplayDataReplay: \n",
      "\tTP: 100.0\n",
      "\tFP: 0.24856349667505973\n",
      "\tFN: 0.0\n",
      "\t\n"
     ]
    },
    {
     "name": "stderr",
     "output_type": "stream",
     "text": [
      "100%|██████████| 8863/8863 [00:01<00:00, 6341.44it/s]\n"
     ]
    },
    {
     "name": "stdout",
     "output_type": "stream",
     "text": [
      "Attack A12 - StaleMessagesStaleMessagesStaleMessagesStaleMessagesStaleMessagesStaleMessagesStaleMessagesStaleMessagesStaleMessagesStaleMessagesStaleMessagesStaleMessagesStaleMessagesStaleMessagesStaleMessagesStaleMessagesStaleMessagesStaleMessagesStaleMessagesStaleMessagesStaleMessagesStaleMessagesStaleMessagesStaleMessagesStaleMessagesStaleMessagesStaleMessagesStaleMessagesStaleMessagesStaleMessagesStaleMessagesStaleMessagesStaleMessagesStaleMessagesStaleMessagesStaleMessagesStaleMessagesStaleMessagesStaleMessagesStaleMessagesStaleMessagesStaleMessagesStaleMessagesStaleMessagesStaleMessagesStaleMessagesStaleMessagesStaleMessagesStaleMessagesStaleMessagesStaleMessagesStaleMessagesStaleMessagesStaleMessagesStaleMessagesStaleMessagesStaleMessagesStaleMessagesStaleMessagesStaleMessagesStaleMessagesStaleMessagesStaleMessagesStaleMessagesStaleMessagesStaleMessagesStaleMessagesStaleMessagesStaleMessagesStaleMessagesStaleMessagesStaleMessagesStaleMessagesStaleMessagesStaleMessagesStaleMessagesStaleMessagesStaleMessagesStaleMessagesStaleMessagesStaleMessagesStaleMessagesStaleMessagesStaleMessagesStaleMessagesStaleMessagesStaleMessagesStaleMessagesStaleMessagesStaleMessagesStaleMessagesStaleMessagesStaleMessagesStaleMessagesStaleMessagesStaleMessagesStaleMessagesStaleMessagesStaleMessagesStaleMessages: \n",
      "\tTP: 99.65858214964409\n",
      "\tFP: 0.0\n",
      "\tFN: 0.3414178503559073\n",
      "\t\n"
     ]
    },
    {
     "name": "stderr",
     "output_type": "stream",
     "text": [
      "100%|██████████| 8863/8863 [00:01<00:00, 6452.52it/s]\n"
     ]
    },
    {
     "name": "stdout",
     "output_type": "stream",
     "text": [
      "Attack A13 - DoSDoSDoSDoSDoSDoSDoSDoSDoSDoSDoSDoSDoSDoSDoSDoSDoSDoSDoSDoSDoSDoSDoSDoSDoSDoSDoSDoSDoSDoSDoSDoSDoSDoSDoSDoSDoSDoSDoSDoSDoSDoSDoSDoSDoSDoSDoSDoSDoSDoSDoSDoSDoSDoSDoSDoSDoSDoSDoSDoSDoSDoSDoSDoSDoSDoSDoSDoSDoSDoSDoSDoSDoSDoSDoSDoSDoSDoSDoSDoSDoSDoSDoSDoSDoSDoSDoSDoSDoSDoSDoSDoSDoSDoSDoSDoSDoSDoSDoSDoS: \n",
      "\tTP: 100.0\n",
      "\tFP: 0.0\n",
      "\tFN: 0.0\n",
      "\t\n"
     ]
    },
    {
     "name": "stderr",
     "output_type": "stream",
     "text": [
      "100%|██████████| 8863/8863 [00:01<00:00, 6367.92it/s]\n"
     ]
    },
    {
     "name": "stdout",
     "output_type": "stream",
     "text": [
      "Attack A14 - DoSRandomDoSRandomDoSRandomDoSRandomDoSRandomDoSRandomDoSRandomDoSRandomDoSRandomDoSRandomDoSRandomDoSRandomDoSRandomDoSRandomDoSRandomDoSRandomDoSRandomDoSRandomDoSRandomDoSRandomDoSRandomDoSRandomDoSRandomDoSRandomDoSRandomDoSRandomDoSRandomDoSRandomDoSRandomDoSRandomDoSRandomDoSRandomDoSRandomDoSRandomDoSRandomDoSRandomDoSRandomDoSRandomDoSRandomDoSRandomDoSRandomDoSRandomDoSRandomDoSRandomDoSRandomDoSRandomDoSRandomDoSRandomDoSRandomDoSRandomDoSRandomDoSRandomDoSRandomDoSRandomDoSRandomDoSRandomDoSRandomDoSRandomDoSRandomDoSRandomDoSRandomDoSRandomDoSRandomDoSRandomDoSRandomDoSRandomDoSRandomDoSRandomDoSRandomDoSRandomDoSRandomDoSRandomDoSRandomDoSRandomDoSRandomDoSRandomDoSRandomDoSRandomDoSRandomDoSRandomDoSRandomDoSRandomDoSRandomDoSRandomDoSRandomDoSRandomDoSRandomDoSRandomDoSRandomDoSRandomDoSRandomDoSRandomDoSRandomDoSRandomDoSRandomDoSRandomDoSRandomDoSRandomDoSRandomDoSRandom: \n",
      "\tTP: 100.0\n",
      "\tFP: 0.5988233646168931\n",
      "\tFN: 0.0\n",
      "\t\n"
     ]
    },
    {
     "name": "stderr",
     "output_type": "stream",
     "text": [
      "100%|██████████| 8863/8863 [00:01<00:00, 6423.65it/s]\n"
     ]
    },
    {
     "name": "stdout",
     "output_type": "stream",
     "text": [
      "Attack A15 - DoSDisruptiveDoSDisruptiveDoSDisruptiveDoSDisruptiveDoSDisruptiveDoSDisruptiveDoSDisruptiveDoSDisruptiveDoSDisruptiveDoSDisruptiveDoSDisruptiveDoSDisruptiveDoSDisruptiveDoSDisruptiveDoSDisruptiveDoSDisruptiveDoSDisruptiveDoSDisruptiveDoSDisruptiveDoSDisruptiveDoSDisruptiveDoSDisruptiveDoSDisruptiveDoSDisruptiveDoSDisruptiveDoSDisruptiveDoSDisruptiveDoSDisruptiveDoSDisruptiveDoSDisruptiveDoSDisruptiveDoSDisruptiveDoSDisruptiveDoSDisruptiveDoSDisruptiveDoSDisruptiveDoSDisruptiveDoSDisruptiveDoSDisruptiveDoSDisruptiveDoSDisruptiveDoSDisruptiveDoSDisruptiveDoSDisruptiveDoSDisruptiveDoSDisruptiveDoSDisruptiveDoSDisruptiveDoSDisruptiveDoSDisruptiveDoSDisruptiveDoSDisruptiveDoSDisruptiveDoSDisruptiveDoSDisruptiveDoSDisruptiveDoSDisruptiveDoSDisruptiveDoSDisruptiveDoSDisruptiveDoSDisruptiveDoSDisruptiveDoSDisruptiveDoSDisruptiveDoSDisruptiveDoSDisruptiveDoSDisruptiveDoSDisruptiveDoSDisruptiveDoSDisruptiveDoSDisruptiveDoSDisruptiveDoSDisruptiveDoSDisruptiveDoSDisruptiveDoSDisruptiveDoSDisruptiveDoSDisruptiveDoSDisruptiveDoSDisruptiveDoSDisruptiveDoSDisruptiveDoSDisruptiveDoSDisruptiveDoSDisruptiveDoSDisruptiveDoSDisruptiveDoSDisruptiveDoSDisruptiveDoSDisruptiveDoSDisruptiveDoSDisruptiveDoSDisruptiveDoSDisruptiveDoSDisruptiveDoSDisruptiveDoSDisruptiveDoSDisruptiveDoSDisruptiveDoSDisruptive: \n",
      "\tTP: 100.0\n",
      "\tFP: 0.20483408439164277\n",
      "\tFN: 0.0\n",
      "\t\n"
     ]
    }
   ],
   "source": [
    "attack_types = dict((v,k) for k,v in attack_types.items())\n",
    "for idx, t in enumerate(list(attack_types.keys())[5:16]):\n",
    "    y_true, y_pred = [], []\n",
    "\n",
    "    for report in tqdm(list(mbd_reports)):\n",
    "        report = json.load(open(report))\n",
    "        report_sender_real_id = report['Report']['Metadata']['senderRealId']\n",
    "        for bsm in report['Report']['BSMs']:\n",
    "            reported_type = report['Report']['Metadata']['attackType']\n",
    "            if reported_type == t:\n",
    "                y_pred.append(str(reported_type))\n",
    "            else:\n",
    "                y_pred.append('Other')\n",
    "\n",
    "            # ground_truth_label = bsm['MbType']\n",
    "            ground_truth_label = bsm['AttackType']\n",
    "            if ground_truth_label == t:\n",
    "                y_true.append(ground_truth_label)\n",
    "            else:\n",
    "                y_true.append('Other')\n",
    "\n",
    "    import numpy as np\n",
    "    from sklearn.metrics import ConfusionMatrixDisplay, confusion_matrix\n",
    "    import matplotlib.pyplot as plt\n",
    "\n",
    "    cm = confusion_matrix(y_true, y_pred)\n",
    "    total = np.sum(cm)\n",
    "\n",
    "    tp = cm[0, 0] / (cm[0, 0] + cm[0 ,1])\n",
    "    fp = cm[1, 0] / (cm[1, 0] + cm[1, 1])\n",
    "    fn = 1-tp\n",
    "\n",
    "    print(\"Attack A{} - {}: \\n\\tTP: {}\\n\\tFP: {}\\n\\tFN: {}\\n\\t\".format(idx+5, t*100, tp*100, fp*100, fn*100))\n",
    "    # cmp = ConfusionMatrixDisplay(cm, display_labels=[t, 'Other Attacks'])\n",
    "    # fig, ax = plt.subplots(figsize=(10,10))\n",
    "    # cmp.plot(ax=ax)\n",
    "    # plt.savefig('./figures/Part2/{}.png'.format(t))\n",
    "    # plt.cla()\n",
    "    # plt.clf()\n",
    "    # ax.clear()\n",
    "    # ax.remove()\n",
    "# ConfusionMatrixDisplay.from_predictions(y_true, y_pred)\n",
    "# from sklearn.metrics import confusion_matrix\n",
    "# print(confusion_matrix(y_true, y_pred))"
   ]
  },
  {
   "cell_type": "code",
   "execution_count": 24,
   "metadata": {},
   "outputs": [
    {
     "data": {
      "text/plain": [
       "'DoSRandomSybil'"
      ]
     },
     "execution_count": 24,
     "metadata": {},
     "output_type": "execute_result"
    }
   ],
   "source": [
    "reported_type"
   ]
  }
 ],
 "metadata": {
  "kernelspec": {
   "display_name": "Python 3.10.4 ('sas')",
   "language": "python",
   "name": "python3"
  },
  "language_info": {
   "codemirror_mode": {
    "name": "ipython",
    "version": 3
   },
   "file_extension": ".py",
   "mimetype": "text/x-python",
   "name": "python",
   "nbconvert_exporter": "python",
   "pygments_lexer": "ipython3",
   "version": "3.10.4"
  },
  "orig_nbformat": 4,
  "vscode": {
   "interpreter": {
    "hash": "230abf99961025f061eadd1c6c76af24a6efda2d16e8bcb0ea1997ca1587700c"
   }
  }
 },
 "nbformat": 4,
 "nbformat_minor": 2
}
